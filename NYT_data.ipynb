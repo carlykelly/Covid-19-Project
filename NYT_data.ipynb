{
 "cells": [
  {
   "cell_type": "code",
   "execution_count": 1,
   "metadata": {},
   "outputs": [],
   "source": [
    "import pandas as pd \n",
    "import numpy as np\n",
    "import flask \n",
    "import pymongo \n",
    "import json"
   ]
  },
  {
   "cell_type": "code",
   "execution_count": 2,
   "metadata": {},
   "outputs": [],
   "source": [
    "# Name of the CSV file\n",
    "file = 'Resources/clean-us-counties.csv'\n",
    "file2 = 'Resources/us-states.csv'"
   ]
  },
  {
   "cell_type": "code",
   "execution_count": 3,
   "metadata": {},
   "outputs": [],
   "source": [
    "file_df = pd.read_csv(file)\n",
    "file2_df = pd.read_csv(file2)"
   ]
  },
  {
   "cell_type": "code",
   "execution_count": 4,
   "metadata": {},
   "outputs": [],
   "source": [
    "counties_df = pd.DataFrame(file_df)\n",
    "states_df = pd.DataFrame(file2_df)"
   ]
  },
  {
   "cell_type": "code",
   "execution_count": 5,
   "metadata": {},
   "outputs": [
    {
     "data": {
      "text/html": [
       "<div>\n",
       "<style scoped>\n",
       "    .dataframe tbody tr th:only-of-type {\n",
       "        vertical-align: middle;\n",
       "    }\n",
       "\n",
       "    .dataframe tbody tr th {\n",
       "        vertical-align: top;\n",
       "    }\n",
       "\n",
       "    .dataframe thead th {\n",
       "        text-align: right;\n",
       "    }\n",
       "</style>\n",
       "<table border=\"1\" class=\"dataframe\">\n",
       "  <thead>\n",
       "    <tr style=\"text-align: right;\">\n",
       "      <th></th>\n",
       "      <th>date</th>\n",
       "      <th>county</th>\n",
       "      <th>state</th>\n",
       "      <th>fips</th>\n",
       "      <th>cases</th>\n",
       "      <th>deaths</th>\n",
       "      <th>confirmed_cases</th>\n",
       "      <th>confirmed_deaths</th>\n",
       "      <th>probable_cases</th>\n",
       "    </tr>\n",
       "  </thead>\n",
       "  <tbody>\n",
       "    <tr>\n",
       "      <th>0</th>\n",
       "      <td>7/29/20</td>\n",
       "      <td>Autauga</td>\n",
       "      <td>Alabama</td>\n",
       "      <td>1001.0</td>\n",
       "      <td>987</td>\n",
       "      <td>21.0</td>\n",
       "      <td>949.0</td>\n",
       "      <td>20.0</td>\n",
       "      <td>38.0</td>\n",
       "    </tr>\n",
       "    <tr>\n",
       "      <th>1</th>\n",
       "      <td>7/29/20</td>\n",
       "      <td>Baldwin</td>\n",
       "      <td>Alabama</td>\n",
       "      <td>1003.0</td>\n",
       "      <td>2908</td>\n",
       "      <td>21.0</td>\n",
       "      <td>2865.0</td>\n",
       "      <td>20.0</td>\n",
       "      <td>43.0</td>\n",
       "    </tr>\n",
       "    <tr>\n",
       "      <th>2</th>\n",
       "      <td>7/29/20</td>\n",
       "      <td>Barbour</td>\n",
       "      <td>Alabama</td>\n",
       "      <td>1005.0</td>\n",
       "      <td>584</td>\n",
       "      <td>4.0</td>\n",
       "      <td>538.0</td>\n",
       "      <td>4.0</td>\n",
       "      <td>46.0</td>\n",
       "    </tr>\n",
       "    <tr>\n",
       "      <th>3</th>\n",
       "      <td>7/29/20</td>\n",
       "      <td>Bibb</td>\n",
       "      <td>Alabama</td>\n",
       "      <td>1007.0</td>\n",
       "      <td>344</td>\n",
       "      <td>2.0</td>\n",
       "      <td>336.0</td>\n",
       "      <td>2.0</td>\n",
       "      <td>8.0</td>\n",
       "    </tr>\n",
       "    <tr>\n",
       "      <th>4</th>\n",
       "      <td>7/29/20</td>\n",
       "      <td>Blount</td>\n",
       "      <td>Alabama</td>\n",
       "      <td>1009.0</td>\n",
       "      <td>694</td>\n",
       "      <td>3.0</td>\n",
       "      <td>623.0</td>\n",
       "      <td>3.0</td>\n",
       "      <td>71.0</td>\n",
       "    </tr>\n",
       "  </tbody>\n",
       "</table>\n",
       "</div>"
      ],
      "text/plain": [
       "      date   county    state    fips  cases  deaths  confirmed_cases  \\\n",
       "0  7/29/20  Autauga  Alabama  1001.0    987    21.0            949.0   \n",
       "1  7/29/20  Baldwin  Alabama  1003.0   2908    21.0           2865.0   \n",
       "2  7/29/20  Barbour  Alabama  1005.0    584     4.0            538.0   \n",
       "3  7/29/20     Bibb  Alabama  1007.0    344     2.0            336.0   \n",
       "4  7/29/20   Blount  Alabama  1009.0    694     3.0            623.0   \n",
       "\n",
       "   confirmed_deaths  probable_cases  \n",
       "0              20.0            38.0  \n",
       "1              20.0            43.0  \n",
       "2               4.0            46.0  \n",
       "3               2.0             8.0  \n",
       "4               3.0            71.0  "
      ]
     },
     "execution_count": 5,
     "metadata": {},
     "output_type": "execute_result"
    }
   ],
   "source": [
    "counties_df.head()"
   ]
  },
  {
   "cell_type": "code",
   "execution_count": 6,
   "metadata": {},
   "outputs": [
    {
     "data": {
      "text/html": [
       "<div>\n",
       "<style scoped>\n",
       "    .dataframe tbody tr th:only-of-type {\n",
       "        vertical-align: middle;\n",
       "    }\n",
       "\n",
       "    .dataframe tbody tr th {\n",
       "        vertical-align: top;\n",
       "    }\n",
       "\n",
       "    .dataframe thead th {\n",
       "        text-align: right;\n",
       "    }\n",
       "</style>\n",
       "<table border=\"1\" class=\"dataframe\">\n",
       "  <thead>\n",
       "    <tr style=\"text-align: right;\">\n",
       "      <th></th>\n",
       "      <th>date</th>\n",
       "      <th>state</th>\n",
       "      <th>fips</th>\n",
       "      <th>cases</th>\n",
       "      <th>deaths</th>\n",
       "      <th>confirmed_cases</th>\n",
       "      <th>confirmed_deaths</th>\n",
       "      <th>probable_cases</th>\n",
       "      <th>probable_deaths</th>\n",
       "    </tr>\n",
       "  </thead>\n",
       "  <tbody>\n",
       "    <tr>\n",
       "      <th>0</th>\n",
       "      <td>7/29/20</td>\n",
       "      <td>Alabama</td>\n",
       "      <td>1</td>\n",
       "      <td>83782</td>\n",
       "      <td>1538</td>\n",
       "      <td>81572.0</td>\n",
       "      <td>1489.0</td>\n",
       "      <td>2210.0</td>\n",
       "      <td>49.0</td>\n",
       "    </tr>\n",
       "    <tr>\n",
       "      <th>1</th>\n",
       "      <td>7/29/20</td>\n",
       "      <td>Alaska</td>\n",
       "      <td>2</td>\n",
       "      <td>3440</td>\n",
       "      <td>20</td>\n",
       "      <td>3440.0</td>\n",
       "      <td>20.0</td>\n",
       "      <td>0.0</td>\n",
       "      <td>0.0</td>\n",
       "    </tr>\n",
       "    <tr>\n",
       "      <th>2</th>\n",
       "      <td>7/29/20</td>\n",
       "      <td>Arizona</td>\n",
       "      <td>4</td>\n",
       "      <td>168293</td>\n",
       "      <td>3466</td>\n",
       "      <td>NaN</td>\n",
       "      <td>NaN</td>\n",
       "      <td>NaN</td>\n",
       "      <td>NaN</td>\n",
       "    </tr>\n",
       "    <tr>\n",
       "      <th>3</th>\n",
       "      <td>7/29/20</td>\n",
       "      <td>Arkansas</td>\n",
       "      <td>5</td>\n",
       "      <td>40968</td>\n",
       "      <td>434</td>\n",
       "      <td>40968.0</td>\n",
       "      <td>434.0</td>\n",
       "      <td>0.0</td>\n",
       "      <td>0.0</td>\n",
       "    </tr>\n",
       "    <tr>\n",
       "      <th>4</th>\n",
       "      <td>7/29/20</td>\n",
       "      <td>California</td>\n",
       "      <td>6</td>\n",
       "      <td>482578</td>\n",
       "      <td>8789</td>\n",
       "      <td>482578.0</td>\n",
       "      <td>8789.0</td>\n",
       "      <td>0.0</td>\n",
       "      <td>0.0</td>\n",
       "    </tr>\n",
       "  </tbody>\n",
       "</table>\n",
       "</div>"
      ],
      "text/plain": [
       "      date       state  fips   cases  deaths  confirmed_cases  \\\n",
       "0  7/29/20     Alabama     1   83782    1538          81572.0   \n",
       "1  7/29/20      Alaska     2    3440      20           3440.0   \n",
       "2  7/29/20     Arizona     4  168293    3466              NaN   \n",
       "3  7/29/20    Arkansas     5   40968     434          40968.0   \n",
       "4  7/29/20  California     6  482578    8789         482578.0   \n",
       "\n",
       "   confirmed_deaths  probable_cases  probable_deaths  \n",
       "0            1489.0          2210.0             49.0  \n",
       "1              20.0             0.0              0.0  \n",
       "2               NaN             NaN              NaN  \n",
       "3             434.0             0.0              0.0  \n",
       "4            8789.0             0.0              0.0  "
      ]
     },
     "execution_count": 6,
     "metadata": {},
     "output_type": "execute_result"
    }
   ],
   "source": [
    "states_df.head()"
   ]
  },
  {
   "cell_type": "code",
   "execution_count": 7,
   "metadata": {},
   "outputs": [],
   "source": [
    "states_df.dtypes\n",
    "# states_df['date'].str().to_datetime()\n",
    "states_df['date'] = states_df['date'].astype('str')"
   ]
  },
  {
   "cell_type": "code",
   "execution_count": 8,
   "metadata": {},
   "outputs": [],
   "source": [
    "record = states_df.to_json(orient=\"records\")"
   ]
  },
  {
   "cell_type": "code",
   "execution_count": 9,
   "metadata": {},
   "outputs": [
    {
     "name": "stdout",
     "output_type": "stream",
     "text": [
      "\"[{\\\"date\\\":\\\"7\\\\/29\\\\/20\\\",\\\"state\\\":\\\"Alabama\\\",\\\"fips\\\":1,\\\"cases\\\":83782,\\\"deaths\\\":1538,\\\"confirmed_cases\\\":81572.0,\\\"confirmed_deaths\\\":1489.0,\\\"probable_cases\\\":2210.0,\\\"probable_deaths\\\":49.0},{\\\"date\\\":\\\"7\\\\/29\\\\/20\\\",\\\"state\\\":\\\"Alaska\\\",\\\"fips\\\":2,\\\"cases\\\":3440,\\\"deaths\\\":20,\\\"confirmed_cases\\\":3440.0,\\\"confirmed_deaths\\\":20.0,\\\"probable_cases\\\":0.0,\\\"probable_deaths\\\":0.0},{\\\"date\\\":\\\"7\\\\/29\\\\/20\\\",\\\"state\\\":\\\"Arizona\\\",\\\"fips\\\":4,\\\"cases\\\":168293,\\\"deaths\\\":3466,\\\"confirmed_cases\\\":null,\\\"confirmed_deaths\\\":null,\\\"probable_cases\\\":null,\\\"probable_deaths\\\":null},{\\\"date\\\":\\\"7\\\\/29\\\\/20\\\",\\\"state\\\":\\\"Arkansas\\\",\\\"fips\\\":5,\\\"cases\\\":40968,\\\"deaths\\\":434,\\\"confirmed_cases\\\":40968.0,\\\"confirmed_deaths\\\":434.0,\\\"probable_cases\\\":0.0,\\\"probable_deaths\\\":0.0},{\\\"date\\\":\\\"7\\\\/29\\\\/20\\\",\\\"state\\\":\\\"California\\\",\\\"fips\\\":6,\\\"cases\\\":482578,\\\"deaths\\\":8789,\\\"confirmed_cases\\\":482578.0,\\\"confirmed_deaths\\\":8789.0,\\\"probable_cases\\\":0.0,\\\"probable_deaths\\\":0.0},{\\\"date\\\":\\\"7\\\\/29\\\\/20\\\",\\\"state\\\":\\\"Colorado\\\",\\\"fips\\\":8,\\\"cases\\\":45420,\\\"deaths\\\":1809,\\\"confirmed_cases\\\":null,\\\"confirmed_deaths\\\":null,\\\"probable_cases\\\":null,\\\"probable_deaths\\\":null},{\\\"date\\\":\\\"7\\\\/29\\\\/20\\\",\\\"state\\\":\\\"Connecticut\\\",\\\"fips\\\":9,\\\"cases\\\":49540,\\\"deaths\\\":4425,\\\"confirmed_cases\\\":null,\\\"confirmed_deaths\\\":null,\\\"probable_cases\\\":null,\\\"probable_deaths\\\":null},{\\\"date\\\":\\\"7\\\\/29\\\\/20\\\",\\\"state\\\":\\\"Delaware\\\",\\\"fips\\\":10,\\\"cases\\\":14602,\\\"deaths\\\":581,\\\"confirmed_cases\\\":null,\\\"confirmed_deaths\\\":null,\\\"probable_cases\\\":null,\\\"probable_deaths\\\":null},{\\\"date\\\":\\\"7\\\\/29\\\\/20\\\",\\\"state\\\":\\\"District of Columbia\\\",\\\"fips\\\":11,\\\"cases\\\":11999,\\\"deaths\\\":584,\\\"confirmed_cases\\\":11999.0,\\\"confirmed_deaths\\\":584.0,\\\"probable_cases\\\":0.0,\\\"probable_deaths\\\":0.0},{\\\"date\\\":\\\"7\\\\/29\\\\/20\\\",\\\"state\\\":\\\"Florida\\\",\\\"fips\\\":12,\\\"cases\\\":451415,\\\"deaths\\\":6332,\\\"confirmed_cases\\\":0.0,\\\"confirmed_deaths\\\":6332.0,\\\"probable_cases\\\":451415.0,\\\"probable_deaths\\\":0.0},{\\\"date\\\":\\\"7\\\\/29\\\\/20\\\",\\\"state\\\":\\\"Georgia\\\",\\\"fips\\\":13,\\\"cases\\\":163547,\\\"deaths\\\":3566,\\\"confirmed_cases\\\":163547.0,\\\"confirmed_deaths\\\":3566.0,\\\"probable_cases\\\":0.0,\\\"probable_deaths\\\":0.0},{\\\"date\\\":\\\"7\\\\/29\\\\/20\\\",\\\"state\\\":\\\"Guam\\\",\\\"fips\\\":66,\\\"cases\\\":1320,\\\"deaths\\\":6,\\\"confirmed_cases\\\":1312.0,\\\"confirmed_deaths\\\":6.0,\\\"probable_cases\\\":8.0,\\\"probable_deaths\\\":0.0},{\\\"date\\\":\\\"7\\\\/29\\\\/20\\\",\\\"state\\\":\\\"Hawaii\\\",\\\"fips\\\":15,\\\"cases\\\":1734,\\\"deaths\\\":25,\\\"confirmed_cases\\\":null,\\\"confirmed_deaths\\\":null,\\\"probable_cases\\\":null,\\\"probable_deaths\\\":null},{\\\"date\\\":\\\"7\\\\/29\\\\/20\\\",\\\"state\\\":\\\"Idaho\\\",\\\"fips\\\":16,\\\"cases\\\":19318,\\\"deaths\\\":168,\\\"confirmed_cases\\\":18136.0,\\\"confirmed_deaths\\\":110.0,\\\"probable_cases\\\":1182.0,\\\"probable_deaths\\\":58.0},{\\\"date\\\":\\\"7\\\\/29\\\\/20\\\",\\\"state\\\":\\\"Illinois\\\",\\\"fips\\\":17,\\\"cases\\\":176772,\\\"deaths\\\":7659,\\\"confirmed_cases\\\":175530.0,\\\"confirmed_deaths\\\":7465.0,\\\"probable_cases\\\":1242.0,\\\"probable_deaths\\\":194.0},{\\\"date\\\":\\\"7\\\\/29\\\\/20\\\",\\\"state\\\":\\\"Indiana\\\",\\\"fips\\\":18,\\\"cases\\\":65918,\\\"deaths\\\":2932,\\\"confirmed_cases\\\":64299.0,\\\"confirmed_deaths\\\":2733.0,\\\"probable_cases\\\":1619.0,\\\"probable_deaths\\\":199.0},{\\\"date\\\":\\\"7\\\\/29\\\\/20\\\",\\\"state\\\":\\\"Iowa\\\",\\\"fips\\\":19,\\\"cases\\\":43283,\\\"deaths\\\":846,\\\"confirmed_cases\\\":43283.0,\\\"confirmed_deaths\\\":846.0,\\\"probable_cases\\\":0.0,\\\"probable_deaths\\\":0.0},{\\\"date\\\":\\\"7\\\\/29\\\\/20\\\",\\\"state\\\":\\\"Kansas\\\",\\\"fips\\\":20,\\\"cases\\\":27130,\\\"deaths\\\":349,\\\"confirmed_cases\\\":null,\\\"confirmed_deaths\\\":null,\\\"probable_cases\\\":null,\\\"probable_deaths\\\":null},{\\\"date\\\":\\\"7\\\\/29\\\\/20\\\",\\\"state\\\":\\\"Kentucky\\\",\\\"fips\\\":21,\\\"cases\\\":29382,\\\"deaths\\\":742,\\\"confirmed_cases\\\":null,\\\"confirmed_deaths\\\":null,\\\"probable_cases\\\":null,\\\"probable_deaths\\\":null},{\\\"date\\\":\\\"7\\\\/29\\\\/20\\\",\\\"state\\\":\\\"Louisiana\\\",\\\"fips\\\":22,\\\"cases\\\":112887,\\\"deaths\\\":3883,\\\"confirmed_cases\\\":112773.0,\\\"confirmed_deaths\\\":3769.0,\\\"probable_cases\\\":114.0,\\\"probable_deaths\\\":114.0},{\\\"date\\\":\\\"7\\\\/29\\\\/20\\\",\\\"state\\\":\\\"Maine\\\",\\\"fips\\\":23,\\\"cases\\\":3866,\\\"deaths\\\":121,\\\"confirmed_cases\\\":3457.0,\\\"confirmed_deaths\\\":121.0,\\\"probable_cases\\\":409.0,\\\"probable_deaths\\\":0.0},{\\\"date\\\":\\\"7\\\\/29\\\\/20\\\",\\\"state\\\":\\\"Maryland\\\",\\\"fips\\\":24,\\\"cases\\\":86846,\\\"deaths\\\":3478,\\\"confirmed_cases\\\":86738.0,\\\"confirmed_deaths\\\":3347.0,\\\"probable_cases\\\":108.0,\\\"probable_deaths\\\":131.0},{\\\"date\\\":\\\"7\\\\/29\\\\/20\\\",\\\"state\\\":\\\"Massachusetts\\\",\\\"fips\\\":25,\\\"cases\\\":116182,\\\"deaths\\\":8551,\\\"confirmed_cases\\\":108740.0,\\\"confirmed_deaths\\\":8331.0,\\\"probable_cases\\\":7442.0,\\\"probable_deaths\\\":220.0},{\\\"date\\\":\\\"7\\\\/29\\\\/20\\\",\\\"state\\\":\\\"Michigan\\\",\\\"fips\\\":26,\\\"cases\\\":89026,\\\"deaths\\\":6426,\\\"confirmed_cases\\\":79988.0,\\\"confirmed_deaths\\\":6174.0,\\\"probable_cases\\\":9038.0,\\\"probable_deaths\\\":252.0},{\\\"date\\\":\\\"7\\\\/29\\\\/20\\\",\\\"state\\\":\\\"Minnesota\\\",\\\"fips\\\":27,\\\"cases\\\":52987,\\\"deaths\\\":1629,\\\"confirmed_cases\\\":52947.0,\\\"confirmed_deaths\\\":1589.0,\\\"probable_cases\\\":40.0,\\\"probable_deaths\\\":40.0},{\\\"date\\\":\\\"7\\\\/29\\\\/20\\\",\\\"state\\\":\\\"Mississippi\\\",\\\"fips\\\":28,\\\"cases\\\":55804,\\\"deaths\\\":1563,\\\"confirmed_cases\\\":55046.0,\\\"confirmed_deaths\\\":1524.0,\\\"probable_cases\\\":758.0,\\\"probable_deaths\\\":39.0},{\\\"date\\\":\\\"7\\\\/29\\\\/20\\\",\\\"state\\\":\\\"Missouri\\\",\\\"fips\\\":29,\\\"cases\\\":47519,\\\"deaths\\\":1268,\\\"confirmed_cases\\\":47477.0,\\\"confirmed_deaths\\\":1268.0,\\\"probable_cases\\\":42.0,\\\"probable_deaths\\\":0.0},{\\\"date\\\":\\\"7\\\\/29\\\\/20\\\",\\\"state\\\":\\\"Montana\\\",\\\"fips\\\":30,\\\"cases\\\":3676,\\\"deaths\\\":54,\\\"confirmed_cases\\\":3676.0,\\\"confirmed_deaths\\\":54.0,\\\"probable_cases\\\":0.0,\\\"probable_deaths\\\":0.0},{\\\"date\\\":\\\"7\\\\/29\\\\/20\\\",\\\"state\\\":\\\"Nebraska\\\",\\\"fips\\\":31,\\\"cases\\\":25430,\\\"deaths\\\":330,\\\"confirmed_cases\\\":25430.0,\\\"confirmed_deaths\\\":330.0,\\\"probable_cases\\\":0.0,\\\"probable_deaths\\\":0.0},{\\\"date\\\":\\\"7\\\\/29\\\\/20\\\",\\\"state\\\":\\\"Nevada\\\",\\\"fips\\\":32,\\\"cases\\\":45824,\\\"deaths\\\":780,\\\"confirmed_cases\\\":45818.0,\\\"confirmed_deaths\\\":780.0,\\\"probable_cases\\\":6.0,\\\"probable_deaths\\\":0.0},{\\\"date\\\":\\\"7\\\\/29\\\\/20\\\",\\\"state\\\":\\\"New Hampshire\\\",\\\"fips\\\":33,\\\"cases\\\":6500,\\\"deaths\\\":409,\\\"confirmed_cases\\\":6500.0,\\\"confirmed_deaths\\\":409.0,\\\"probable_cases\\\":0.0,\\\"probable_deaths\\\":0.0},{\\\"date\\\":\\\"7\\\\/29\\\\/20\\\",\\\"state\\\":\\\"New Jersey\\\",\\\"fips\\\":34,\\\"cases\\\":182475,\\\"deaths\\\":15798,\\\"confirmed_cases\\\":180766.0,\\\"confirmed_deaths\\\":13923.0,\\\"probable_cases\\\":1709.0,\\\"probable_deaths\\\":1875.0},{\\\"date\\\":\\\"7\\\\/29\\\\/20\\\",\\\"state\\\":\\\"New Mexico\\\",\\\"fips\\\":35,\\\"cases\\\":19791,\\\"deaths\\\":626,\\\"confirmed_cases\\\":19791.0,\\\"confirmed_deaths\\\":626.0,\\\"probable_cases\\\":0.0,\\\"probable_deaths\\\":0.0},{\\\"date\\\":\\\"7\\\\/29\\\\/20\\\",\\\"state\\\":\\\"New York\\\",\\\"fips\\\":36,\\\"cases\\\":418302,\\\"deaths\\\":32342,\\\"confirmed_cases\\\":413677.0,\\\"confirmed_deaths\\\":27717.0,\\\"probable_cases\\\":4625.0,\\\"probable_deaths\\\":4625.0},{\\\"date\\\":\\\"7\\\\/29\\\\/20\\\",\\\"state\\\":\\\"North Carolina\\\",\\\"fips\\\":37,\\\"cases\\\":118012,\\\"deaths\\\":1886,\\\"confirmed_cases\\\":118012.0,\\\"confirmed_deaths\\\":1886.0,\\\"probable_cases\\\":0.0,\\\"probable_deaths\\\":0.0},{\\\"date\\\":\\\"7\\\\/29\\\\/20\\\",\\\"state\\\":\\\"North Dakota\\\",\\\"fips\\\":38,\\\"cases\\\":6231,\\\"deaths\\\":106,\\\"confirmed_cases\\\":6227.0,\\\"confirmed_deaths\\\":102.0,\\\"probable_cases\\\":4.0,\\\"probable_deaths\\\":4.0},{\\\"date\\\":\\\"7\\\\/29\\\\/20\\\",\\\"state\\\":\\\"Northern Mariana Islands\\\",\\\"fips\\\":69,\\\"cases\\\":40,\\\"deaths\\\":2,\\\"confirmed_cases\\\":40.0,\\\"confirmed_deaths\\\":2.0,\\\"probable_cases\\\":0.0,\\\"probable_deaths\\\":0.0},{\\\"date\\\":\\\"7\\\\/29\\\\/20\\\",\\\"state\\\":\\\"Ohio\\\",\\\"fips\\\":39,\\\"cases\\\":87893,\\\"deaths\\\":3422,\\\"confirmed_cases\\\":null,\\\"confirmed_deaths\\\":null,\\\"probable_cases\\\":null,\\\"probable_deaths\\\":null},{\\\"date\\\":\\\"7\\\\/29\\\\/20\\\",\\\"state\\\":\\\"Oklahoma\\\",\\\"fips\\\":40,\\\"cases\\\":34605,\\\"deaths\\\":523,\\\"confirmed_cases\\\":34605.0,\\\"confirmed_deaths\\\":523.0,\\\"probable_cases\\\":0.0,\\\"probable_deaths\\\":0.0},{\\\"date\\\":\\\"7\\\\/29\\\\/20\\\",\\\"state\\\":\\\"Oregon\\\",\\\"fips\\\":41,\\\"cases\\\":17805,\\\"deaths\\\":311,\\\"confirmed_cases\\\":1783.0,\\\"confirmed_deaths\\\":null,\\\"probable_cases\\\":16022.0,\\\"probable_deaths\\\":null},{\\\"date\\\":\\\"7\\\\/29\\\\/20\\\",\\\"state\\\":\\\"Pennsylvania\\\",\\\"fips\\\":42,\\\"cases\\\":114984,\\\"deaths\\\":7219,\\\"confirmed_cases\\\":null,\\\"confirmed_deaths\\\":null,\\\"probable_cases\\\":null,\\\"probable_deaths\\\":null},{\\\"date\\\":\\\"7\\\\/29\\\\/20\\\",\\\"state\\\":\\\"Puerto Rico\\\",\\\"fips\\\":72,\\\"cases\\\":16061,\\\"deaths\\\":211,\\\"confirmed_cases\\\":5700.0,\\\"confirmed_deaths\\\":106.0,\\\"probable_cases\\\":10361.0,\\\"probable_deaths\\\":105.0},{\\\"date\\\":\\\"7\\\\/29\\\\/20\\\",\\\"state\\\":\\\"Rhode Island\\\",\\\"fips\\\":44,\\\"cases\\\":18800,\\\"deaths\\\":1007,\\\"confirmed_cases\\\":18800.0,\\\"confirmed_deaths\\\":1007.0,\\\"probable_cases\\\":0.0,\\\"probable_deaths\\\":0.0},{\\\"date\\\":\\\"7\\\\/29\\\\/20\\\",\\\"state\\\":\\\"South Carolina\\\",\\\"fips\\\":45,\\\"cases\\\":85846,\\\"deaths\\\":1615,\\\"confirmed_cases\\\":85423.0,\\\"confirmed_deaths\\\":1551.0,\\\"probable_cases\\\":423.0,\\\"probable_deaths\\\":64.0},{\\\"date\\\":\\\"7\\\\/29\\\\/20\\\",\\\"state\\\":\\\"South Dakota\\\",\\\"fips\\\":46,\\\"cases\\\":8641,\\\"deaths\\\":129,\\\"confirmed_cases\\\":8641.0,\\\"confirmed_deaths\\\":129.0,\\\"probable_cases\\\":0.0,\\\"probable_deaths\\\":0.0},{\\\"date\\\":\\\"7\\\\/29\\\\/20\\\",\\\"state\\\":\\\"Tennessee\\\",\\\"fips\\\":47,\\\"cases\\\":98145,\\\"deaths\\\":1008,\\\"confirmed_cases\\\":97043.0,\\\"confirmed_deaths\\\":515.0,\\\"probable_cases\\\":1102.0,\\\"probable_deaths\\\":493.0},{\\\"date\\\":\\\"7\\\\/29\\\\/20\\\",\\\"state\\\":\\\"Texas\\\",\\\"fips\\\":48,\\\"cases\\\":418880,\\\"deaths\\\":6763,\\\"confirmed_cases\\\":411160.0,\\\"confirmed_deaths\\\":6763.0,\\\"probable_cases\\\":7720.0,\\\"probable_deaths\\\":0.0},{\\\"date\\\":\\\"7\\\\/29\\\\/20\\\",\\\"state\\\":\\\"Utah\\\",\\\"fips\\\":49,\\\"cases\\\":39294,\\\"deaths\\\":296,\\\"confirmed_cases\\\":24228.0,\\\"confirmed_deaths\\\":177.0,\\\"probable_cases\\\":15066.0,\\\"probable_deaths\\\":119.0},{\\\"date\\\":\\\"7\\\\/29\\\\/20\\\",\\\"state\\\":\\\"Vermont\\\",\\\"fips\\\":50,\\\"cases\\\":1406,\\\"deaths\\\":56,\\\"confirmed_cases\\\":1406.0,\\\"confirmed_deaths\\\":56.0,\\\"probable_cases\\\":0.0,\\\"probable_deaths\\\":0.0},{\\\"date\\\":\\\"7\\\\/29\\\\/20\\\",\\\"state\\\":\\\"Virginia\\\",\\\"fips\\\":51,\\\"cases\\\":87993,\\\"deaths\\\":2125,\\\"confirmed_cases\\\":null,\\\"confirmed_deaths\\\":null,\\\"probable_cases\\\":null,\\\"probable_deaths\\\":null},{\\\"date\\\":\\\"7\\\\/29\\\\/20\\\",\\\"state\\\":\\\"Virgin Islands\\\",\\\"fips\\\":78,\\\"cases\\\":385,\\\"deaths\\\":8,\\\"confirmed_cases\\\":385.0,\\\"confirmed_deaths\\\":8.0,\\\"probable_cases\\\":0.0,\\\"probable_deaths\\\":0.0},{\\\"date\\\":\\\"7\\\\/29\\\\/20\\\",\\\"state\\\":\\\"Washington\\\",\\\"fips\\\":53,\\\"cases\\\":56903,\\\"deaths\\\":1635,\\\"confirmed_cases\\\":55411.0,\\\"confirmed_deaths\\\":1562.0,\\\"probable_cases\\\":1492.0,\\\"probable_deaths\\\":73.0},{\\\"date\\\":\\\"7\\\\/29\\\\/20\\\",\\\"state\\\":\\\"West Virginia\\\",\\\"fips\\\":54,\\\"cases\\\":6326,\\\"deaths\\\":112,\\\"confirmed_cases\\\":6187.0,\\\"confirmed_deaths\\\":112.0,\\\"probable_cases\\\":139.0,\\\"probable_deaths\\\":0.0},{\\\"date\\\":\\\"7\\\\/29\\\\/20\\\",\\\"state\\\":\\\"Wisconsin\\\",\\\"fips\\\":55,\\\"cases\\\":55067,\\\"deaths\\\":920,\\\"confirmed_cases\\\":51128.0,\\\"confirmed_deaths\\\":913.0,\\\"probable_cases\\\":3939.0,\\\"probable_deaths\\\":7.0},{\\\"date\\\":\\\"7\\\\/29\\\\/20\\\",\\\"state\\\":\\\"Wyoming\\\",\\\"fips\\\":56,\\\"cases\\\":2628,\\\"deaths\\\":26,\\\"confirmed_cases\\\":2172.0,\\\"confirmed_deaths\\\":null,\\\"probable_cases\\\":456.0,\\\"probable_deaths\\\":null}]\"\n"
     ]
    }
   ],
   "source": [
    "print(json.dumps(record, indent=4, sort_keys=True))"
   ]
  },
  {
   "cell_type": "code",
   "execution_count": null,
   "metadata": {},
   "outputs": [],
   "source": []
  }
 ],
 "metadata": {
  "kernelspec": {
   "display_name": "Python 3",
   "language": "python",
   "name": "python3"
  },
  "language_info": {
   "codemirror_mode": {
    "name": "ipython",
    "version": 3
   },
   "file_extension": ".py",
   "mimetype": "text/x-python",
   "name": "python",
   "nbconvert_exporter": "python",
   "pygments_lexer": "ipython3",
   "version": "3.7.6"
  }
 },
 "nbformat": 4,
 "nbformat_minor": 4
}
