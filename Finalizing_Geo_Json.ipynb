{
 "cells": [
  {
   "cell_type": "code",
   "execution_count": 79,
   "metadata": {},
   "outputs": [
    {
     "name": "stdout",
     "output_type": "stream",
     "text": [
      "Collecting bson\n",
      "  Downloading https://files.pythonhosted.org/packages/4d/53/7c534a38850f2252275d7f949aed2219095e90df1e2d180a9c8ed139e499/bson-0.5.10.tar.gz\n",
      "Requirement already satisfied: python-dateutil>=2.4.0 in /opt/anaconda3/lib/python3.7/site-packages (from bson) (2.8.0)\n",
      "Requirement already satisfied: six>=1.9.0 in /opt/anaconda3/lib/python3.7/site-packages (from bson) (1.12.0)\n",
      "Building wheels for collected packages: bson\n",
      "  Building wheel for bson (setup.py) ... \u001b[?25ldone\n",
      "\u001b[?25h  Created wheel for bson: filename=bson-0.5.10-cp37-none-any.whl size=11980 sha256=eff90a3fb3b183b5687a922a0a7187af7df5a4ef8fdca08ed9cdc29d94ad8a89\n",
      "  Stored in directory: /Users/carlyfabris/Library/Caches/pip/wheels/19/e9/ab/932515e84e1300ea515cb4ae3297a5794a6ebbaeb649d50a3b\n",
      "Successfully built bson\n",
      "Installing collected packages: bson\n",
      "Successfully installed bson-0.5.10\n"
     ]
    }
   ],
   "source": [
    "!pip install bson"
   ]
  },
  {
   "cell_type": "code",
   "execution_count": 68,
   "metadata": {},
   "outputs": [],
   "source": [
    "import json\n",
    "import pandas as pd\n",
    "import pymongo\n",
    "import flask\n",
    "import csv\n",
    "import urllib"
   ]
  },
  {
   "cell_type": "code",
   "execution_count": 69,
   "metadata": {},
   "outputs": [],
   "source": [
    "#with urlopen('https://raw.githubusercontent.com/plotly/datasets/master/geojson-counties-fips.json') as response:\n",
    "    #counties = json.load(response)\n",
    "    \n",
    "import urllib.request\n",
    "with urllib.request.urlopen('https://raw.githubusercontent.com/plotly/datasets/master/geojson-counties-fips.json') as response:\n",
    "   geojson = json.load(response)"
   ]
  },
  {
   "cell_type": "code",
   "execution_count": 70,
   "metadata": {},
   "outputs": [
    {
     "data": {
      "text/plain": [
       "{'type': 'Feature',\n",
       " 'properties': {'GEO_ID': '0500000US01001',\n",
       "  'STATE': '01',\n",
       "  'COUNTY': '001',\n",
       "  'NAME': 'Autauga',\n",
       "  'LSAD': 'County',\n",
       "  'CENSUSAREA': 594.436},\n",
       " 'geometry': {'type': 'Polygon',\n",
       "  'coordinates': [[[-86.496774, 32.344437],\n",
       "    [-86.717897, 32.402814],\n",
       "    [-86.814912, 32.340803],\n",
       "    [-86.890581, 32.502974],\n",
       "    [-86.917595, 32.664169],\n",
       "    [-86.71339, 32.661732],\n",
       "    [-86.714219, 32.705694],\n",
       "    [-86.413116, 32.707386],\n",
       "    [-86.411172, 32.409937],\n",
       "    [-86.496774, 32.344437]]]},\n",
       " 'id': '01001'}"
      ]
     },
     "execution_count": 70,
     "metadata": {},
     "output_type": "execute_result"
    }
   ],
   "source": [
    "geojson['features'][0]"
   ]
  },
  {
   "cell_type": "code",
   "execution_count": 71,
   "metadata": {},
   "outputs": [],
   "source": [
    "f = open('nyt_county_json_latest.json',) \n",
    "# returns JSON object as  \n",
    "# a dictionary \n",
    "data = json.load(f)"
   ]
  },
  {
   "cell_type": "code",
   "execution_count": 72,
   "metadata": {},
   "outputs": [
    {
     "data": {
      "text/plain": [
       "{'County': 'Weston',\n",
       " 'state': 'Wyoming',\n",
       " 'fips': 56045,\n",
       " 'cases': 5,\n",
       " 'deaths': 0,\n",
       " 'death_pop_percent': 0.0,\n",
       " 'death_case_percent': 0.0,\n",
       " 'case_pop_percent': 0.0702543206,\n",
       " 'death_pop_per_10000': 0.0,\n",
       " 'death_case_per_10000': 0.0,\n",
       " 'case_pop_per_10000': 7.0254320641}"
      ]
     },
     "execution_count": 72,
     "metadata": {},
     "output_type": "execute_result"
    }
   ],
   "source": [
    "data[0]"
   ]
  },
  {
   "cell_type": "code",
   "execution_count": 73,
   "metadata": {},
   "outputs": [],
   "source": [
    "for i in range(len(geojson['features'])):\n",
    "    \n",
    "\n",
    "    for j in range(len(data)):\n",
    "        if data[j]['fips'] == int(geojson['features'][i]['id']):\n",
    "            geojson['features'][i]['properties']['death_pop_percent'] = data[j]['death_pop_percent']\n",
    "            geojson['features'][i]['properties']['death_case_percent'] = data[j]['death_case_percent']\n",
    "            geojson['features'][i]['properties']['case_pop_percent'] = data[j]['case_pop_percent']\n",
    "            geojson['features'][i]['properties']['death_pop_per_10000'] = data[j]['death_pop_per_10000']\n",
    "            geojson['features'][i]['properties']['case_pop_per_10000'] = data[j]['case_pop_per_10000']\n",
    "            geojson['features'][i]['properties']['death_case_per_10000'] = data[j]['death_case_per_10000']\n",
    "            geojson['features'][i]['properties']['State_Name'] = data[j]['state']\n",
    "\n"
   ]
  },
  {
   "cell_type": "code",
   "execution_count": 74,
   "metadata": {},
   "outputs": [
    {
     "data": {
      "text/plain": [
       "{'type': 'Feature',\n",
       " 'properties': {'GEO_ID': '0500000US01017',\n",
       "  'STATE': '01',\n",
       "  'COUNTY': '017',\n",
       "  'NAME': 'Chambers',\n",
       "  'LSAD': 'County',\n",
       "  'CENSUSAREA': 596.531,\n",
       "  'death_pop_percent': 0.1121109308,\n",
       "  'death_case_percent': 4.4811320755,\n",
       "  'case_pop_percent': 2.5018439298,\n",
       "  'death_pop_per_10000': 11.2110930816,\n",
       "  'case_pop_per_10000': 250.1843929783,\n",
       "  'death_case_per_10000': 448.1132075472,\n",
       "  'State_Name': 'Alabama'},\n",
       " 'geometry': {'type': 'Polygon',\n",
       "  'coordinates': [[[-85.184131, 32.870525],\n",
       "    [-85.123421, 32.772248],\n",
       "    [-85.13204, 32.764211],\n",
       "    [-85.136776, 32.746512],\n",
       "    [-85.285043, 32.730731],\n",
       "    [-85.593151, 32.72853],\n",
       "    [-85.593177, 33.10734],\n",
       "    [-85.232378, 33.108077],\n",
       "    [-85.223261, 33.06258],\n",
       "    [-85.221868, 33.055538],\n",
       "    [-85.184131, 32.870525]]]},\n",
       " 'id': '01017'}"
      ]
     },
     "execution_count": 74,
     "metadata": {},
     "output_type": "execute_result"
    }
   ],
   "source": [
    "geojson['features'][2]"
   ]
  },
  {
   "cell_type": "code",
   "execution_count": null,
   "metadata": {},
   "outputs": [],
   "source": []
  },
  {
   "cell_type": "code",
   "execution_count": 44,
   "metadata": {},
   "outputs": [],
   "source": [
    "# with open('final_geojson.json', 'w') as f:\n",
    "#     json.dump(geojson, f, indent=4)"
   ]
  },
  {
   "cell_type": "code",
   "execution_count": 75,
   "metadata": {},
   "outputs": [],
   "source": [
    "for element in geojson['features']:\n",
    "    if 'id' in element:\n",
    "        del element['id']\n",
    "with open('final_geojson.json', 'w') as data_file:\n",
    "    data = json.dump(geojson, data_file)"
   ]
  },
  {
   "cell_type": "code",
   "execution_count": 77,
   "metadata": {},
   "outputs": [],
   "source": [
    "from flask_pymongo import PyMongo\n",
    "from config import mongoURL \n",
    "\n",
    "from pymongo import MongoClient\n",
    "import json\n",
    "#client = MongoClient('localhost', 27017)\n",
    "client = MongoClient(mongoURL)"
   ]
  },
  {
   "cell_type": "code",
   "execution_count": 81,
   "metadata": {},
   "outputs": [
    {
     "data": {
      "text/plain": [
       "<pymongo.results.InsertOneResult at 0x119567460>"
      ]
     },
     "execution_count": 81,
     "metadata": {},
     "output_type": "execute_result"
    }
   ],
   "source": [
    " geojson_db = client['geojson']\n",
    "collection_county_geojson = geojson_db['county_geojson']\n",
    "with open('final_geojson.json') as f:\n",
    "    final_geojson = json.load(f)\n",
    "collection_county_geojson.insert_one(final_geojson)"
   ]
  },
  {
   "cell_type": "code",
   "execution_count": null,
   "metadata": {},
   "outputs": [],
   "source": []
  }
 ],
 "metadata": {
  "kernelspec": {
   "display_name": "Python 3",
   "language": "python",
   "name": "python3"
  },
  "language_info": {
   "codemirror_mode": {
    "name": "ipython",
    "version": 3
   },
   "file_extension": ".py",
   "mimetype": "text/x-python",
   "name": "python",
   "nbconvert_exporter": "python",
   "pygments_lexer": "ipython3",
   "version": "3.7.6"
  }
 },
 "nbformat": 4,
 "nbformat_minor": 2
}
